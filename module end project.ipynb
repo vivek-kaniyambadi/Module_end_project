{
 "cells": [
  {
   "cell_type": "code",
   "execution_count": 34,
   "id": "596b9320",
   "metadata": {},
   "outputs": [],
   "source": [
    "import seaborn as sns\n",
    "import matplotlib.pyplot as plt\n",
    "import pandas as pd\n",
    "\n",
    "\n"
   ]
  },
  {
   "cell_type": "code",
   "execution_count": 36,
   "id": "ba63eb3e",
   "metadata": {},
   "outputs": [],
   "source": [
    "file_path = r\"C:\\Users\\vinee\\Downloads\\myexcel - myexcel.csv.csv\"\n",
    "dataset= pd.read_csv(file_path)"
   ]
  },
  {
   "cell_type": "code",
   "execution_count": 37,
   "id": "cb702b3b",
   "metadata": {},
   "outputs": [
    {
     "name": "stdout",
     "output_type": "stream",
     "text": [
      "Index(['Name', 'Team', 'Number', 'Position', 'Age', 'Height', 'Weight',\n",
      "       'College', 'Salary'],\n",
      "      dtype='object')\n"
     ]
    }
   ],
   "source": [
    "print(dataset.columns)"
   ]
  },
  {
   "cell_type": "markdown",
   "id": "a4803871",
   "metadata": {},
   "source": [
    "## 1.How many are there in each team and the percentage splitting with respect to the total employees."
   ]
  },
  {
   "cell_type": "code",
   "execution_count": 38,
   "id": "ba2e7cde",
   "metadata": {},
   "outputs": [
    {
     "data": {
      "text/plain": [
       "New Orleans Pelicans      19\n",
       "Memphis Grizzlies         18\n",
       "Utah Jazz                 16\n",
       "New York Knicks           16\n",
       "Milwaukee Bucks           16\n",
       "Brooklyn Nets             15\n",
       "Portland Trail Blazers    15\n",
       "Oklahoma City Thunder     15\n",
       "Denver Nuggets            15\n",
       "Washington Wizards        15\n",
       "Miami Heat                15\n",
       "Charlotte Hornets         15\n",
       "Atlanta Hawks             15\n",
       "San Antonio Spurs         15\n",
       "Houston Rockets           15\n",
       "Boston Celtics            15\n",
       "Indiana Pacers            15\n",
       "Detroit Pistons           15\n",
       "Cleveland Cavaliers       15\n",
       "Chicago Bulls             15\n",
       "Sacramento Kings          15\n",
       "Phoenix Suns              15\n",
       "Los Angeles Lakers        15\n",
       "Los Angeles Clippers      15\n",
       "Golden State Warriors     15\n",
       "Toronto Raptors           15\n",
       "Philadelphia 76ers        15\n",
       "Dallas Mavericks          15\n",
       "Orlando Magic             14\n",
       "Minnesota Timberwolves    14\n",
       "Name: Team, dtype: int64"
      ]
     },
     "execution_count": 38,
     "metadata": {},
     "output_type": "execute_result"
    }
   ],
   "source": [
    "# number of employee in each team\n",
    "team_count = dataset['Team'].value_counts()\n",
    "team_count"
   ]
  },
  {
   "cell_type": "code",
   "execution_count": 39,
   "id": "ddb85dab",
   "metadata": {},
   "outputs": [
    {
     "name": "stdout",
     "output_type": "stream",
     "text": [
      "percentage splitting with respect to the total employees\n",
      "                        Number of Employees  Percentage of Employees\n",
      "New Orleans Pelicans                     19                 4.148472\n",
      "Memphis Grizzlies                        18                 3.930131\n",
      "Utah Jazz                                16                 3.493450\n",
      "New York Knicks                          16                 3.493450\n",
      "Milwaukee Bucks                          16                 3.493450\n",
      "Brooklyn Nets                            15                 3.275109\n",
      "Portland Trail Blazers                   15                 3.275109\n",
      "Oklahoma City Thunder                    15                 3.275109\n",
      "Denver Nuggets                           15                 3.275109\n",
      "Washington Wizards                       15                 3.275109\n",
      "Miami Heat                               15                 3.275109\n",
      "Charlotte Hornets                        15                 3.275109\n",
      "Atlanta Hawks                            15                 3.275109\n",
      "San Antonio Spurs                        15                 3.275109\n",
      "Houston Rockets                          15                 3.275109\n",
      "Boston Celtics                           15                 3.275109\n",
      "Indiana Pacers                           15                 3.275109\n",
      "Detroit Pistons                          15                 3.275109\n",
      "Cleveland Cavaliers                      15                 3.275109\n",
      "Chicago Bulls                            15                 3.275109\n",
      "Sacramento Kings                         15                 3.275109\n",
      "Phoenix Suns                             15                 3.275109\n",
      "Los Angeles Lakers                       15                 3.275109\n",
      "Los Angeles Clippers                     15                 3.275109\n",
      "Golden State Warriors                    15                 3.275109\n",
      "Toronto Raptors                          15                 3.275109\n",
      "Philadelphia 76ers                       15                 3.275109\n",
      "Dallas Mavericks                         15                 3.275109\n",
      "Orlando Magic                            14                 3.056769\n",
      "Minnesota Timberwolves                   14                 3.056769\n"
     ]
    }
   ],
   "source": [
    "# the percentage splitting with respect to the total employees\n",
    "total_employees = len(dataset)\n",
    "team_percentage = (team_count / total_employees) * 100\n",
    "a = pd.DataFrame({'Number of Employees': team_count,'Percentage of Employees': team_percentage})\n",
    "print(\"percentage splitting with respect to the total employees\")\n",
    "print(a)"
   ]
  },
  {
   "cell_type": "markdown",
   "id": "d3d615b5",
   "metadata": {},
   "source": [
    "## 2.Segregate the employees w.r.t different positions."
   ]
  },
  {
   "cell_type": "code",
   "execution_count": 40,
   "id": "85183da1",
   "metadata": {},
   "outputs": [
    {
     "name": "stdout",
     "output_type": "stream",
     "text": [
      "Employees w.r.t different Positions:\n",
      "          Number of Employees\n",
      "Position                     \n",
      "C                          79\n",
      "PF                        100\n",
      "PG                         92\n",
      "SF                         85\n",
      "SG                        102\n"
     ]
    }
   ],
   "source": [
    "#the employees by their positions\n",
    "pos = dataset.groupby('Position')\n",
    "pos_count = pos.size()\n",
    "b = pd.DataFrame({'Number of Employees': pos_count})\n",
    "print(\"Employees w.r.t different Positions:\")\n",
    "print(b)"
   ]
  },
  {
   "cell_type": "markdown",
   "id": "ce22a437",
   "metadata": {},
   "source": [
    "## 3.Find from which age group most of the employees belong to."
   ]
  },
  {
   "cell_type": "code",
   "execution_count": 41,
   "id": "bb1bd329",
   "metadata": {},
   "outputs": [
    {
     "name": "stdout",
     "output_type": "stream",
     "text": [
      "Number of Employees in  Age Group:\n"
     ]
    },
    {
     "data": {
      "text/plain": [
       "21-24    170\n",
       "24-27    100\n",
       "27-30     80\n",
       "18-21     66\n",
       "30-33     29\n",
       "33-36     13\n",
       "Name: Age, dtype: int64"
      ]
     },
     "execution_count": 41,
     "metadata": {},
     "output_type": "execute_result"
    }
   ],
   "source": [
    "age_group_count = dataset['Age'].value_counts()\n",
    "age_groups = [(18, 21), (21, 24), (24, 27), (27, 30), (30, 33), (33, 36)]\n",
    "age_grp= ['18-21', '21-24', '24-27', '27-30', '30-33', '33-36']\n",
    "# using cut func to Categorize the employees into age groups\n",
    "d = pd.cut(dataset['Age'], bins=len(age_groups), labels=age_grp)\n",
    "#no_of eomplyees in each age group\n",
    "age_group_counts = d.value_counts()\n",
    "print(\"Number of Employees in  Age Group:\")\n",
    "age_group_counts"
   ]
  },
  {
   "cell_type": "code",
   "execution_count": 42,
   "id": "47e7a443",
   "metadata": {},
   "outputs": [
    {
     "name": "stdout",
     "output_type": "stream",
     "text": [
      "Age Group with Most Employees: 21-24\n"
     ]
    }
   ],
   "source": [
    "#  age group with most of employees\n",
    "max_age = age_group_counts.idxmax()\n",
    "print(\"Age Group with Most Employees:\", max_age)"
   ]
  },
  {
   "cell_type": "markdown",
   "id": "29c65536",
   "metadata": {},
   "source": [
    "## 4.Find out under which team and positions,spending in terms of salary is high"
   ]
  },
  {
   "cell_type": "code",
   "execution_count": 43,
   "id": "052ba62f",
   "metadata": {},
   "outputs": [
    {
     "name": "stdout",
     "output_type": "stream",
     "text": [
      "Team with Highest Spending: Los Angeles Lakers\n",
      "Position with Highest Spending: SF\n"
     ]
    }
   ],
   "source": [
    "team_spending = dataset.groupby(['Team', 'Position'])['Salary'].sum()\n",
    "#team and position with the highest spending\n",
    "high_spend = team_spending.idxmax()\n",
    "high_spend\n",
    "print(\"Team with Highest Spending:\", high_spend[0])\n",
    "print(\"Position with Highest Spending:\", high_spend[1])"
   ]
  },
  {
   "cell_type": "markdown",
   "id": "f8341fc9",
   "metadata": {},
   "source": [
    "# 5. Find if there is any correlation between age and salary,represent it visually."
   ]
  },
  {
   "cell_type": "code",
   "execution_count": 45,
   "id": "2d00850e",
   "metadata": {},
   "outputs": [
    {
     "name": "stdout",
     "output_type": "stream",
     "text": [
      "Correlation between Age and Salary: 0.21400941226570974\n"
     ]
    },
    {
     "data": {
      "image/png": "[encoded data removed]",
      "text/plain": [
       "<Figure size 640x480 with 1 Axes>"
      ]
     },
     "metadata": {},
     "output_type": "display_data"
    }
   ],
   "source": [
    "import matplotlib.pyplot as plt\n",
    "correlation = dataset['Age'].corr(dataset['Salary'])\n",
    "print(\"Correlation between Age and Salary:\",correlation)\n",
    "plt.scatter(dataset['Age'], dataset['Salary'])\n",
    "plt.xlabel('Age')\n",
    "plt.ylabel('Salary')\n",
    "plt.title('Age vs Salary')\n",
    "plt.show()"
   ]
  },
  {
   "cell_type": "code",
   "execution_count": null,
   "id": "1b6c3fe1",
   "metadata": {},
   "outputs": [],
   "source": []
  }
 ],
 "metadata": {
  "kernelspec": {
   "display_name": "Python 3 (ipykernel)",
   "language": "python",
   "name": "python3"
  },
  "language_info": {
   "codemirror_mode": {
    "name": "ipython",
    "version": 3
   },
   "file_extension": ".py",
   "mimetype": "text/x-python",
   "name": "python",
   "nbconvert_exporter": "python",
   "pygments_lexer": "ipython3",
   "version": "3.9.13"
  }
 },
 "nbformat": 4,
 "nbformat_minor": 5
}
